{
 "cells": [
  {
   "cell_type": "markdown",
   "metadata": {},
   "source": [
    "### Specify the connection to the postgres database from docker"
   ]
  },
  {
   "cell_type": "code",
   "execution_count": 14,
   "metadata": {},
   "outputs": [],
   "source": [
    "%defaultDatasource jdbc:postgresql://postgres/postgres?user=postgres&password=postgres"
   ]
  },
  {
   "cell_type": "code",
   "execution_count": 15,
   "metadata": {},
   "outputs": [
    {
     "ename": "java.sql.SQLException",
     "evalue": " [Amazon](500150) Error setting/closing connection",
     "output_type": "error",
     "text": "java.sql.SQLException: [Amazon](500150) Error setting/closing connection: Connection refused.",
     "traceback": [
      "\u001b[1;31mjava.sql.SQLException: [Amazon](500150) Error setting/closing connection: Connection refused.\u001b[0;0m"
     ]
    }
   ],
   "source": [
    "SELECT * FROM flights WHERE dep_time > 2350"
   ]
  },
  {
   "cell_type": "markdown",
   "metadata": {},
   "source": [
    "Documentation for the SQL kernel is available @ https://github.com/twosigma/beakerx/blob/master/doc/sql/Sql.ipynb"
   ]
  },
  {
   "cell_type": "code",
   "execution_count": null,
   "metadata": {},
   "outputs": [],
   "source": []
  }
 ],
 "metadata": {
  "kernelspec": {
   "display_name": "SQL",
   "language": "SQL",
   "name": "sql"
  },
  "language_info": {
   "codemirror_mode": "sql",
   "file_extension": ".sql",
   "mimetype": "",
   "name": "SQL",
   "nbconverter_exporter": "",
   "version": ""
  }
 },
 "nbformat": 4,
 "nbformat_minor": 2
}
